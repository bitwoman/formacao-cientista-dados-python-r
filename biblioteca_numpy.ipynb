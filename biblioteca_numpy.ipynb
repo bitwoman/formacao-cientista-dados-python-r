{
 "cells": [
  {
   "cell_type": "markdown",
   "id": "43727ab2-0d78-40a4-9eb9-25c0b84e0f73",
   "metadata": {},
   "source": [
    "**FORMAÇÃO CIENTISTA DE DADOS**"
   ]
  },
  {
   "cell_type": "markdown",
   "id": "a9555713-c615-4fb2-99c6-3a44b02a1805",
   "metadata": {},
   "source": [
    "**Biblioteca Numpy**"
   ]
  },
  {
   "cell_type": "code",
   "execution_count": 11,
   "id": "b650caf0-7631-47c8-81fa-0ee20ab590cd",
   "metadata": {},
   "outputs": [],
   "source": [
    "#Importando a biblioteca \n",
    "import numpy as np"
   ]
  },
  {
   "cell_type": "code",
   "execution_count": 12,
   "id": "30351c19-303e-410f-a915-e1fec8ee1cbd",
   "metadata": {},
   "outputs": [
    {
     "name": "stdout",
     "output_type": "stream",
     "text": [
      "[1 2 3 4 5]\n",
      "<class 'numpy.ndarray'>\n"
     ]
    }
   ],
   "source": [
    "#Cria uma matriz unidimensional \n",
    "matrizUnidimensional = np.array([1,2,3,4,5])\n",
    "\n",
    "print(matrizUnidimensional)\n",
    "print(type(matrizUnidimensional))"
   ]
  },
  {
   "cell_type": "code",
   "execution_count": 13,
   "id": "1691b49c-cd8d-4c24-b8fc-fc3495f480c5",
   "metadata": {},
   "outputs": [
    {
     "name": "stdout",
     "output_type": "stream",
     "text": [
      "[1. 2. 3. 4. 5.]\n",
      "<class 'numpy.ndarray'>\n",
      "\n",
      "\n",
      "[1 2 3 4 5]\n",
      "<class 'numpy.ndarray'>\n"
     ]
    }
   ],
   "source": [
    "#Criando um array com um tipo específico (array como float de 64 bits e int de 32 bits)\n",
    "matrizUnidimensionalFloat = np.array([1,2,3,4,5], dtype = np.float64)\n",
    "print(matrizUnidimensionalFloat)\n",
    "print(type(matrizUnidimensionalFloat))\n",
    "\n",
    "print('\\n')\n",
    "\n",
    "matrizUnidimensionalInt = np.array([1,2,3,4,5], dtype = np.int32)\n",
    "print(matrizUnidimensionalInt)\n",
    "print(type(matrizUnidimensionalInt))"
   ]
  },
  {
   "cell_type": "code",
   "execution_count": 14,
   "id": "8920148d-6c2a-4819-9959-def663b1bc7e",
   "metadata": {},
   "outputs": [
    {
     "name": "stdout",
     "output_type": "stream",
     "text": [
      "[ 1.4       3.6      -5.1       9.42      4.999999]\n",
      "\n",
      "\n",
      "[ 1  3 -5  9  4]\n"
     ]
    }
   ],
   "source": [
    "#Mudar o tipo do array. Podemos transformar tipos de dados de arrays\n",
    "matrizUnidimensionalTeste = np.array([1.4, 3.6, -5.1, 9.42, 4.999999])\n",
    "print(matrizUnidimensionalTeste)\n",
    "\n",
    "print('\\n')\n",
    "\n",
    "#Quando transformamos de float para int os valores são truncados\n",
    "trocandoMatrizPraInt = matrizUnidimensionalTeste.astype(np.int32)\n",
    "print(trocandoMatrizPraInt)"
   ]
  },
  {
   "cell_type": "code",
   "execution_count": 15,
   "id": "55960457-a99a-4b7b-b43b-6b3d1463b96f",
   "metadata": {},
   "outputs": [
    {
     "name": "stdout",
     "output_type": "stream",
     "text": [
      "[5 6 7 8]\n",
      "\n",
      "\n",
      "[5. 6. 7. 8.]\n"
     ]
    }
   ],
   "source": [
    "#Podemos fazer o inverso também \n",
    "matrizInt = np.array([5,6,7,8])\n",
    "print(matrizInt)\n",
    "\n",
    "print('\\n')\n",
    "\n",
    "matrizIntPraFloat = matrizInt.astype(np.float64)\n",
    "print(matrizIntPraFloat)"
   ]
  },
  {
   "cell_type": "code",
   "execution_count": 16,
   "id": "4d844aa1-eab9-4314-813e-cf09c936641c",
   "metadata": {},
   "outputs": [
    {
     "name": "stdout",
     "output_type": "stream",
     "text": [
      "[[ 1  2  3  4]\n",
      " [ 5  6  7  8]\n",
      " [ 9 10 11 12]]\n"
     ]
    }
   ],
   "source": [
    "#Criando matriz de mais de uma dimensão (bidimensional)\n",
    "matrizBidimensional = np.array([\n",
    "                               [1,2,3,4],\n",
    "                               [5,6,7,8],\n",
    "                               [9,10,11,12]\n",
    "                      ])\n",
    "\n",
    "print(matrizBidimensional)"
   ]
  },
  {
   "cell_type": "code",
   "execution_count": 17,
   "id": "2dddd0f8-6e5a-48e9-9895-c27d592b15e1",
   "metadata": {},
   "outputs": [
    {
     "name": "stdout",
     "output_type": "stream",
     "text": [
      "[[-1871988352         467]\n",
      " [          0           0]\n",
      " [          1     7340137]]\n",
      "\n",
      "\n",
      "[[0. 0. 0.]\n",
      " [0. 0. 0.]\n",
      " [0. 0. 0.]\n",
      " [0. 0. 0.]]\n",
      "\n",
      "\n",
      "[[1. 1. 1. 1. 1. 1. 1.]\n",
      " [1. 1. 1. 1. 1. 1. 1.]\n",
      " [1. 1. 1. 1. 1. 1. 1.]\n",
      " [1. 1. 1. 1. 1. 1. 1.]\n",
      " [1. 1. 1. 1. 1. 1. 1.]]\n",
      "\n",
      "\n",
      "[[1. 0. 0. 0. 0.]\n",
      " [0. 1. 0. 0. 0.]\n",
      " [0. 0. 1. 0. 0.]\n",
      " [0. 0. 0. 1. 0.]\n",
      " [0. 0. 0. 0. 1.]]\n"
     ]
    }
   ],
   "source": [
    "#Criando arrays azios tipificados (empty significa que não foram inicializados, não necessariamente vazios)\n",
    "array = np.empty([3,2], dtype = int)\n",
    "print(array)\n",
    "\n",
    "print('\\n')\n",
    "\n",
    "\n",
    "#Criando uma matriz 4x3 com valores 0 \n",
    "matrizComZeros = np.zeros([4,3])\n",
    "print(matrizComZeros)\n",
    "\n",
    "print('\\n')\n",
    "\n",
    "\n",
    "#Criando uma matriz 4x3 com valores 1\n",
    "matrizComUns = np.ones([5,7])\n",
    "print(matrizComUns)\n",
    "\n",
    "print('\\n')\n",
    "\n",
    "\n",
    "#Criando matriz quadrada com diagonal principal com valores 1 e os outros valores zero\n",
    "matrizDiagonal = np.eye(5)\n",
    "print(matrizDiagonal)"
   ]
  },
  {
   "cell_type": "code",
   "execution_count": 21,
   "id": "7a5143a8-49c3-413e-b368-18803742da81",
   "metadata": {},
   "outputs": [
    {
     "name": "stdout",
     "output_type": "stream",
     "text": [
      "[0.51672267 0.25640221 0.30555615 0.24579637 0.40191973]\n",
      "\n",
      "\n",
      "[ 0.72151696  1.21170194  0.66562484 -0.42447556  1.06344247]\n",
      "\n",
      "\n",
      "[[7.66809429 4.30117857 3.45818349 4.60878977]\n",
      " [6.3127971  3.58786699 0.42215133 5.33558851]\n",
      " [5.18383588 5.95588724 3.69352179 2.34591565]]\n"
     ]
    }
   ],
   "source": [
    "from numpy import random\n",
    "import numpy as np\n",
    "\n",
    "#Valores aleatórios entre zero e um\n",
    "valoresAleatorios = np.random.random((5))\n",
    "print(valoresAleatorios)\n",
    "\n",
    "\n",
    "print('\\n')\n",
    "\n",
    "#Valores aleatórios distribuídos normal contendo negativos\n",
    "valoresAleatoriosComNegativos =  np.random.randn((5))\n",
    "print(valoresAleatoriosComNegativos)\n",
    "\n",
    "\n",
    "print('\\n')\n",
    "\n",
    "\n",
    "#Valores aleatórios 3x4\n",
    "valoresAleatoriosUm = (10 * np.random.random((3,4)))\n",
    "print(valoresAleatoriosUm)"
   ]
  },
  {
   "cell_type": "code",
   "execution_count": 27,
   "id": "6d1878aa-2c8a-44aa-8659-7bde43027eaa",
   "metadata": {},
   "outputs": [
    {
     "name": "stdout",
     "output_type": "stream",
     "text": [
      "[0.51182162 0.9504637  0.14415961]\n",
      "\n",
      "\n",
      "[[8 9 2 3]\n",
      " [8 4 2 8]\n",
      " [2 4 6 5]]\n"
     ]
    }
   ],
   "source": [
    "#Outra forma de gerar valores aleatórios (uso de semente)\n",
    "gerandoValoresAleatorios = np.random.default_rng(1)\n",
    "valoresAleatoriosDois = gerandoValoresAleatorios.random(3)\n",
    "print(valoresAleatoriosDois)\n",
    "\n",
    "\n",
    "print('\\n')\n",
    "\n",
    "\n",
    "#Gerando valores aleatórios inteiros\n",
    "valoresAleatoriosTres = gerandoValoresAleatorios.integers(10, size=(3,4))\n",
    "print(valoresAleatoriosTres)"
   ]
  },
  {
   "cell_type": "code",
   "execution_count": 28,
   "id": "77f359ba-f581-452e-bae5-43255f8edf20",
   "metadata": {},
   "outputs": [
    {
     "name": "stdout",
     "output_type": "stream",
     "text": [
      "[11 12 13 14 15 16 17 18 19 20]\n"
     ]
    }
   ],
   "source": [
    "#O unique remove repetições\n",
    "testandoUnique = np.array([11,12,13,14,15,16,17,12,13,11,18,19,20])\n",
    "testandoUnique = np.unique(testandoUnique)\n",
    "\n",
    "print(testandoUnique)"
   ]
  },
  {
   "cell_type": "code",
   "execution_count": 29,
   "id": "f15329db-6257-43bb-a055-50ebec7c3d7a",
   "metadata": {},
   "outputs": [
    {
     "name": "stdout",
     "output_type": "stream",
     "text": [
      "[[17 22 43]\n",
      " [27 25 14]\n",
      " [15 24 32]]\n",
      "\n",
      "\n",
      "22\n",
      "\n",
      "\n",
      "(3, 3)\n"
     ]
    }
   ],
   "source": [
    "#Funções específicas\n",
    "\n",
    "#Criando uma matriz bidimensional K\n",
    "k = np.array([ [17,22,43], [27,25,14], [15,24,32] ])\n",
    "print(k)\n",
    "\n",
    "print('\\n')\n",
    "\n",
    "#Mostra um valor específico da matriz\n",
    "print(k[0][1])\n",
    "\n",
    "print('\\n')\n",
    "\n",
    "#Mostra o tamanho das dimensões da matriz k\n",
    "print(k.shape)"
   ]
  },
  {
   "cell_type": "code",
   "execution_count": 30,
   "id": "2d5f3d13-11e2-4c68-889c-9688e13535ce",
   "metadata": {},
   "outputs": [
    {
     "name": "stdout",
     "output_type": "stream",
     "text": [
      "43\n",
      "14\n",
      "219\n",
      "24.333333333333332\n",
      "8.615231988880057\n"
     ]
    }
   ],
   "source": [
    "#Funções matemáticas\n",
    "#Mostra o maior valor da matriz K\n",
    "print(k.max())\n",
    "\n",
    "#Mostra o menor valor da matriz k\n",
    "print(k.min())\n",
    "\n",
    "#Mostra a soma dos valores da matriz K\n",
    "print(k.sum())\n",
    "\n",
    "#Mostra o valor da média dos valores da matriz k\n",
    "print(k.mean())\n",
    "\n",
    "#Mostra o valor do desvio padrão (standard deviation) dos valores da matriz k\n",
    "print(k.std())"
   ]
  },
  {
   "cell_type": "code",
   "execution_count": 31,
   "id": "95b5305f-4840-42c7-b75a-74b3a6fa49ee",
   "metadata": {},
   "outputs": [
    {
     "name": "stdout",
     "output_type": "stream",
     "text": [
      "[1. 2. 3. 4. 5. 6.]\n",
      "\n",
      "\n",
      "[2.71828183e+00 5.45981500e+01 8.10308393e+03 8.88611052e+06\n",
      " 7.20048993e+10 4.31123155e+15]\n"
     ]
    }
   ],
   "source": [
    "#Funções universais aplicadas à todos os elementos\n",
    "\n",
    "#Mostra o valor da raiz quadrada de todos os elementos\n",
    "matrizFuncaoUniversal = np.array([1,4,9,16,25,36])\n",
    "raizQuadradaMatriz = np.sqrt(matrizFuncaoUniversal) \n",
    "print(raizQuadradaMatriz)\n",
    "\n",
    "print('\\n')\n",
    "\n",
    "#Mostra o valor exponencial de todos os valores\n",
    "valorExponencialMatriz = np.exp(matrizFuncaoUniversal)\n",
    "print(valorExponencialMatriz)"
   ]
  },
  {
   "cell_type": "code",
   "execution_count": 35,
   "id": "bd377f5d-ce77-4994-a7be-3941297abc49",
   "metadata": {},
   "outputs": [
    {
     "name": "stdout",
     "output_type": "stream",
     "text": [
      "[1 2 3 4 5 6]\n",
      "\n",
      "\n",
      "2\n",
      "\n",
      "\n",
      "[1 2]\n",
      "\n",
      "\n",
      "[2 3 4 5 6]\n",
      "\n",
      "\n",
      "[4 5 6]\n"
     ]
    }
   ],
   "source": [
    "#Extração de elementos da matriz\n",
    "extraindoElementosMatriz = np.array([1,2,3,4,5,6])\n",
    "\n",
    "print(extraindoElementosMatriz)\n",
    "print('\\n')\n",
    "\n",
    "#Mostra o elemento da posição 2\n",
    "posicaoDois = extraindoElementosMatriz[1]\n",
    "print(posicaoDois)\n",
    "print('\\n')\n",
    "\n",
    "#Mostra dois elementos do array criado a partir da posição 0\n",
    "print(extraindoElementosMatriz[0:2])\n",
    "print('\\n')\n",
    "\n",
    "#Mostra o array criado a partir da 2a posição até todo o restante do array\n",
    "print(extraindoElementosMatriz[1:])\n",
    "print('\\n')\n",
    "\n",
    "#Mostra o array criado a partir da antepenútima posição até o final \n",
    "print(extraindoElementosMatriz[-3:])"
   ]
  },
  {
   "cell_type": "code",
   "execution_count": 39,
   "id": "de309951-dd7d-429c-bc15-6ab85e815ab2",
   "metadata": {},
   "outputs": [
    {
     "name": "stdout",
     "output_type": "stream",
     "text": [
      "[[4 5]\n",
      " [6 7]\n",
      " [8 9]]\n",
      "\n",
      "\n",
      "[4 5]\n",
      "\n",
      "\n",
      "[6 7]\n",
      "\n",
      "\n",
      "[8 9]\n",
      "\n",
      "\n"
     ]
    }
   ],
   "source": [
    "#Extração de linhas e colunas\n",
    "extraindoLinhasEColunas = np.array([ [4,5], [6,7], [8,9] ])\n",
    "\n",
    "print(extraindoLinhasEColunas)\n",
    "print('\\n')\n",
    "\n",
    "#Mostra a primeira linha, todas as colunas\n",
    "linha_1 = extraindoLinhasEColunas[0, :]\n",
    "\n",
    "print(linha_1)\n",
    "print('\\n')\n",
    "\n",
    "\n",
    "#Segunda linha, todas as colunas\n",
    "linha_2 = extraindoLinhasEColunas[1, :]\n",
    "\n",
    "print(linha_2)\n",
    "print('\\n')\n",
    "\n",
    "#Terceira linha, todas as colunas\n",
    "linha_3 = extraindoLinhasEColunas[2, :]\n",
    "\n",
    "print(linha_3)\n",
    "print('\\n')"
   ]
  },
  {
   "cell_type": "code",
   "execution_count": 47,
   "id": "4dda0707-2fd5-4e3b-9d5b-9277f7b15639",
   "metadata": {},
   "outputs": [
    {
     "name": "stdout",
     "output_type": "stream",
     "text": [
      "M1\n",
      "[[1 2]\n",
      " [3 4]]\n",
      "\n",
      "\n",
      "M2\n",
      "[[1 1]\n",
      " [1 1]]\n",
      "\n",
      "\n",
      "SOMA\n",
      "[[2 3]\n",
      " [4 5]]\n",
      "\n",
      "\n",
      "MULIPLICAÇÃO\n",
      "[[1 2]\n",
      " [3 4]]\n",
      "\n",
      "\n",
      "SOMA DE MATRIZES DIFERENTES\n",
      "[[3 3]\n",
      " [5 5]\n",
      " [7 7]]\n"
     ]
    }
   ],
   "source": [
    "#Adição e multiplicação de matrizes\n",
    "matrizUm = np.array([ [1,2], [3,4] ])\n",
    "matrizDois = np.array([ [1,1], [1,1] ])\n",
    "somaMatrizes = (matrizUm + matrizDois)\n",
    "\n",
    "print('M1')\n",
    "print(matrizUm)\n",
    "\n",
    "print('\\n')\n",
    "\n",
    "print('M2')\n",
    "print(matrizDois)\n",
    "\n",
    "print('\\n')\n",
    "\n",
    "print('SOMA')\n",
    "print(somaMatrizes)\n",
    "print('\\n')\n",
    "\n",
    "\n",
    "multiplicacaoMatrizes = (matrizUm * matrizDois)\n",
    "\n",
    "print('MULIPLICAÇÃO')\n",
    "print(multiplicacaoMatrizes)\n",
    "print('\\n')\n",
    "\n",
    "\n",
    "matrizTres = np.array([ [1,2], [3,4], [5,6] ])\n",
    "MatrizQuatro = np.array([[2,1]])\n",
    "\n",
    "somaMatrizesDiferentes = (matrizTres + MatrizQuatro)\n",
    "\n",
    "print('SOMA DE MATRIZES DIFERENTES')\n",
    "print(somaMatrizesDiferentes)"
   ]
  },
  {
   "cell_type": "code",
   "execution_count": 49,
   "id": "bd75c5ce-82f5-45fa-907d-517961d3fd80",
   "metadata": {},
   "outputs": [
    {
     "name": "stdout",
     "output_type": "stream",
     "text": [
      "[[ 0  1  2  3  4]\n",
      " [ 5  6  7  8  9]\n",
      " [10 11 12 13 14]]\n",
      "\n",
      "\n",
      "[[ 0  5 10]\n",
      " [ 1  6 11]\n",
      " [ 2  7 12]\n",
      " [ 3  8 13]\n",
      " [ 4  9 14]]\n"
     ]
    }
   ],
   "source": [
    "#Transposição, rearranja um conjunto de 15 elementos de 0 à 14 (em 3 linhas e 5 colunas)\n",
    "testandoTransposicao = np.arange(15).reshape((3,5))\n",
    "\n",
    "#Mostra a matriz transposta entre linha e coluna\n",
    "print(testandoTransposicao)\n",
    "print('\\n')\n",
    "\n",
    "transpondo = testandoTransposicao.T #Método T -> transforma linhas em colunas\n",
    "print(transpondo)"
   ]
  },
  {
   "cell_type": "code",
   "execution_count": 57,
   "id": "b06d5b97-859d-4524-bff7-f42115b6207b",
   "metadata": {},
   "outputs": [
    {
     "name": "stdout",
     "output_type": "stream",
     "text": [
      "[[ 0  1  2  3  4]\n",
      " [ 5  6  7  8  9]\n",
      " [10 11 12 13 14]]\n",
      "\n",
      "\n",
      "[[ 0  5 10]\n",
      " [ 1  6 11]\n",
      " [ 2  7 12]\n",
      " [ 3  8 13]\n",
      " [ 4  9 14]]\n"
     ]
    }
   ],
   "source": [
    "#Outra forma de fazer a transposição com o mesmo resultado\n",
    "testandoTransposicaoDiferente = np.arange(15).reshape((3,5))\n",
    "\n",
    "print(testandoTransposicaoDiferente)\n",
    "print('\\n')\n",
    "                                          \n",
    "#Rearranja um conjunto de 15 elementos mostrando a matriz transposta entre linha e coluna\n",
    "transpondoDiferente = testandoTransposicaoDiferente.transpose((1,0))\n",
    "print(transpondoDiferente)"
   ]
  },
  {
   "cell_type": "code",
   "execution_count": 55,
   "id": "76a75c9b-d9f5-43c0-945a-46d53f47163e",
   "metadata": {},
   "outputs": [
    {
     "name": "stdout",
     "output_type": "stream",
     "text": [
      "[[-0.47827578  2.56577294  1.81162885 -0.80010782]\n",
      " [-0.3133488  -1.18349456  0.47637127 -0.47426663]\n",
      " [ 0.45857956  0.6279371  -0.93889355  1.57647798]\n",
      " [ 1.12845812 -1.03167876 -0.8957137   1.05412706]]\n",
      "\n",
      "\n",
      "[[False  True  True False]\n",
      " [False False  True False]\n",
      " [ True  True False  True]\n",
      " [ True False False  True]]\n",
      "\n",
      "\n",
      "[[-1  1  1 -1]\n",
      " [-1 -1  1 -1]\n",
      " [ 1  1 -1  1]\n",
      " [ 1 -1 -1  1]]\n"
     ]
    }
   ],
   "source": [
    "#Expressões lógicas\n",
    "#Usando where, e criando matriz com valores aleatórios positivos e negativos\n",
    "testandoExpressoesLogicas = np.random.randn(4,4)\n",
    "print(testandoExpressoesLogicas)\n",
    "print('\\n')\n",
    "\n",
    "#Criando matriz com valores booleanos baseado no array 'testandoExpressoesLogicas'\n",
    "x = (testandoExpressoesLogicas > 0)\n",
    "print(x)\n",
    "print('\\n')\n",
    "\n",
    "#Criando matriz com valores -1 e 1 baseado nos valores do array 'x'\n",
    "z = np.where(x > 0, 1, -1)\n",
    "print(z)"
   ]
  }
 ],
 "metadata": {
  "kernelspec": {
   "display_name": "Python 3",
   "language": "python",
   "name": "python3"
  },
  "language_info": {
   "codemirror_mode": {
    "name": "ipython",
    "version": 3
   },
   "file_extension": ".py",
   "mimetype": "text/x-python",
   "name": "python",
   "nbconvert_exporter": "python",
   "pygments_lexer": "ipython3",
   "version": "3.8.8"
  }
 },
 "nbformat": 4,
 "nbformat_minor": 5
}
