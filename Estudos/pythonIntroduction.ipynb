{
 "cells": [
  {
   "cell_type": "code",
   "execution_count": 1,
   "metadata": {},
   "outputs": [],
   "source": [
    "#Importação de lib's: exemplo\n",
    "import pandas as pd\n",
    "from apyori import apriori"
   ]
  },
  {
   "cell_type": "code",
   "execution_count": null,
   "metadata": {},
   "outputs": [],
   "source": [
    "#Formação Cientista de Dados"
   ]
  },
  {
   "cell_type": "code",
   "execution_count": null,
   "metadata": {},
   "outputs": [],
   "source": [
    "#Funções matemáticas, números aleatórios, criptografia, leitura de arquivos, protocolos de comunicação."
   ]
  },
  {
   "cell_type": "code",
   "execution_count": 15,
   "metadata": {},
   "outputs": [
    {
     "name": "stdout",
     "output_type": "stream",
     "text": [
      "25\n",
      "25.0\n"
     ]
    }
   ],
   "source": [
    "import statistics as st\n",
    "x = [10,20,30,40]\n",
    "y = st.mean(x) \n",
    "z = st.median(x)\n",
    "\n",
    "print(y)\n",
    "print(z)"
   ]
  },
  {
   "cell_type": "code",
   "execution_count": null,
   "metadata": {},
   "outputs": [],
   "source": [
    "#Blocos de código reutilizáveis, podem ser chamados de qualquer parte do programa, podem ser chamados de outros programas."
   ]
  },
  {
   "cell_type": "code",
   "execution_count": 9,
   "metadata": {},
   "outputs": [
    {
     "name": "stdout",
     "output_type": "stream",
     "text": [
      "This is a function!\n"
     ]
    }
   ],
   "source": [
    "#Função sem parâmetros (procedimento é sem retorno, função possui retorno):\n",
    "def printScreen():\n",
    "    print('This is a function!')\n",
    "    \n",
    "printScreen()"
   ]
  },
  {
   "cell_type": "code",
   "execution_count": 10,
   "metadata": {},
   "outputs": [
    {
     "name": "stdout",
     "output_type": "stream",
     "text": [
      "100\n"
     ]
    }
   ],
   "source": [
    "#Função com parâmetros:\n",
    "def p(var):\n",
    "    return var*var\n",
    "    \n",
    "x = p(10)\n",
    "print(x)"
   ]
  },
  {
   "cell_type": "code",
   "execution_count": 14,
   "metadata": {},
   "outputs": [
    {
     "name": "stdout",
     "output_type": "stream",
     "text": [
      "1 2 3 4 5 6 7 8 9 10 "
     ]
    }
   ],
   "source": [
    "#Função: Exemplo com valor default.\n",
    "def interval(beginning=1, end=10):\n",
    "    for beginning in range(1, end+1):\n",
    "        print(beginning, end=' ')\n",
    "\n",
    "interval()"
   ]
  },
  {
   "cell_type": "code",
   "execution_count": 22,
   "metadata": {},
   "outputs": [
    {
     "name": "stdout",
     "output_type": "stream",
     "text": [
      "Mean:  19.5\n",
      "Median:  16.0\n",
      "Mode:  1\n",
      "Variance:  469.6666666666667\n",
      "\n",
      "\n",
      "[[0.78107304 0.58556846 0.66393132 0.78917056 0.02899914 0.76024744\n",
      "  0.36835949 0.88389702]\n",
      " [0.94670637 0.31675199 0.64972635 0.80971208 0.89827705 0.37168518\n",
      "  0.53906549 0.12726267]\n",
      " [0.53329323 0.52614304 0.57949261 0.03488654 0.008831   0.00405279\n",
      "  0.55218266 0.00482724]\n",
      " [0.57775909 0.37780351 0.63449448 0.82814062 0.92971531 0.07993492\n",
      "  0.81400813 0.52151917]\n",
      " [0.74908193 0.44892598 0.46237993 0.72891499 0.72501929 0.07342445\n",
      "  0.33638875 0.81738937]\n",
      " [0.08385632 0.70673614 0.89137315 0.70742288 0.79918375 0.60230457\n",
      "  0.79295452 0.96775149]\n",
      " [0.59402879 0.202072   0.01094463 0.092823   0.72959689 0.29929399\n",
      "  0.05069849 0.45004356]\n",
      " [0.0414582  0.02598722 0.49326611 0.22675292 0.68225281 0.35970365\n",
      "  0.19424237 0.10534098]] "
     ]
    }
   ],
   "source": [
    "#Funções padrões (denominadas funções internas).\n",
    "from statistics import *\n",
    "from numpy import * \n",
    "lst = [1,2,30,45]\n",
    "a = random.random((8,8))\n",
    "\n",
    "print('Mean: ', mean(lst))\n",
    "print('Median: ', median(lst))\n",
    "print('Mode: ', mode(lst))\n",
    "print('Variance: ', variance(lst))\n",
    "print('\\n')\n",
    "print(a, end=' ')"
   ]
  }
 ],
 "metadata": {
  "kernelspec": {
   "display_name": "Python 3",
   "language": "python",
   "name": "python3"
  },
  "language_info": {
   "codemirror_mode": {
    "name": "ipython",
    "version": 3
   },
   "file_extension": ".py",
   "mimetype": "text/x-python",
   "name": "python",
   "nbconvert_exporter": "python",
   "pygments_lexer": "ipython3",
   "version": "3.8.5"
  }
 },
 "nbformat": 4,
 "nbformat_minor": 4
}
