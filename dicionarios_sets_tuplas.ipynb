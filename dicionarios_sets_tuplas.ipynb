{
 "cells": [
  {
   "cell_type": "markdown",
   "id": "695b2cb2-d52c-4573-be45-6997d5dddc97",
   "metadata": {},
   "source": [
    "**FORMAÇÃO CIENTISTA DE DADOS**"
   ]
  },
  {
   "cell_type": "markdown",
   "id": "80cd9553-4d20-4f40-a034-1be4e952f0b2",
   "metadata": {},
   "source": [
    "**Dicionários, Sets e tuplas**"
   ]
  },
  {
   "cell_type": "code",
   "execution_count": 11,
   "id": "7812ba10-6446-4990-9857-60c4df84548d",
   "metadata": {},
   "outputs": [
    {
     "name": "stdout",
     "output_type": "stream",
     "text": [
      "{'João': 6.0, 'Maria': 8.0, 'Pedro': 6.5}\n"
     ]
    }
   ],
   "source": [
    "#Dicionários - Estrutura chave-valor\n",
    "notas = {'João':6.0, 'Maria':8.0, 'Pedro':6.5}\n",
    "\n",
    "print(notas)"
   ]
  },
  {
   "cell_type": "code",
   "execution_count": 2,
   "id": "4ae86971-1f31-4146-8a17-a2a0190c665a",
   "metadata": {},
   "outputs": [
    {
     "data": {
      "text/plain": [
       "dict_keys(['João', 'Maria', 'Pedro'])"
      ]
     },
     "execution_count": 2,
     "metadata": {},
     "output_type": "execute_result"
    }
   ],
   "source": [
    "#Retornando todas as chaves\n",
    "notas.keys()"
   ]
  },
  {
   "cell_type": "code",
   "execution_count": 3,
   "id": "8397c0dd-6b97-42db-b59a-75afc1cceb20",
   "metadata": {},
   "outputs": [
    {
     "data": {
      "text/plain": [
       "dict_values([6.0, 8.0, 6.5])"
      ]
     },
     "execution_count": 3,
     "metadata": {},
     "output_type": "execute_result"
    }
   ],
   "source": [
    "#Retornando todos os valores\n",
    "notas.values()"
   ]
  },
  {
   "cell_type": "code",
   "execution_count": 12,
   "id": "7d8aa3ce-027d-488c-bb62-47a73d5fd390",
   "metadata": {},
   "outputs": [
    {
     "name": "stdout",
     "output_type": "stream",
     "text": [
      "True\n",
      "False\n"
     ]
    }
   ],
   "source": [
    "#Testa logicamente a existência\n",
    "print('João' in notas)\n",
    "print('Fernando' in notas)"
   ]
  },
  {
   "cell_type": "code",
   "execution_count": 13,
   "id": "6b1682e0-89b3-4a35-914e-ad6917fa958a",
   "metadata": {},
   "outputs": [
    {
     "name": "stdout",
     "output_type": "stream",
     "text": [
      "{'Maria': 8.0, 'Pedro': 6.5}\n"
     ]
    }
   ],
   "source": [
    "#Apaga um elemento\n",
    "del notas['João']\n",
    "print(notas)"
   ]
  },
  {
   "cell_type": "code",
   "execution_count": 10,
   "id": "cbf113e2-eba6-45d0-b09d-6dec0a51648e",
   "metadata": {},
   "outputs": [
    {
     "name": "stdout",
     "output_type": "stream",
     "text": [
      "{'Maria': 8.0, 'Pedro': 6.5, 'Brenda': 9}\n"
     ]
    }
   ],
   "source": [
    "print(notas)"
   ]
  },
  {
   "cell_type": "code",
   "execution_count": 7,
   "id": "247a5ce0-55a8-4804-a59b-70dd82ca8c15",
   "metadata": {},
   "outputs": [
    {
     "name": "stdout",
     "output_type": "stream",
     "text": [
      "{'Maria': 8.0, 'Pedro': 6.5, 'Brenda': 9}\n"
     ]
    }
   ],
   "source": [
    "#Inclui um elemento\n",
    "notas['Brenda'] = 9\n",
    "print(notas)"
   ]
  },
  {
   "cell_type": "code",
   "execution_count": 14,
   "id": "cf1442ff-55a5-4b2a-9a0e-d81b2c67ab34",
   "metadata": {},
   "outputs": [
    {
     "data": {
      "text/plain": [
       "'Not found'"
      ]
     },
     "execution_count": 14,
     "metadata": {},
     "output_type": "execute_result"
    }
   ],
   "source": [
    "#Busca um determinado valor, se não encontrar, mostra o segundo parâmetro\n",
    "notas.get('Geraldo', 'Not found')"
   ]
  },
  {
   "cell_type": "code",
   "execution_count": 16,
   "id": "5e98407b-abe6-4ad3-a9dd-5ae84488cd8c",
   "metadata": {},
   "outputs": [
    {
     "name": "stdout",
     "output_type": "stream",
     "text": [
      "{'Hive', 'Spark', 'Sqoop'}\n"
     ]
    }
   ],
   "source": [
    "#Sets são conjuntos não ordenados de elementos não repetidos \n",
    "bigdata = {'Spark', 'Hive', 'Sqoop'}\n",
    "print(bigdata)"
   ]
  },
  {
   "cell_type": "code",
   "execution_count": 17,
   "id": "0e45cd16-8d2b-4fa4-97d9-db394a421bbb",
   "metadata": {},
   "outputs": [
    {
     "name": "stdout",
     "output_type": "stream",
     "text": [
      "True\n"
     ]
    }
   ],
   "source": [
    "#Verifica a existência de um valor num conjunto\n",
    "print('Spark' in bigdata)"
   ]
  },
  {
   "cell_type": "code",
   "execution_count": 18,
   "id": "02ef7635-d4e6-40b0-8e8f-ea6afdccb985",
   "metadata": {},
   "outputs": [
    {
     "data": {
      "text/plain": [
       "{'Hadoop', 'Hive', 'Spark', 'Sqoop'}"
      ]
     },
     "execution_count": 18,
     "metadata": {},
     "output_type": "execute_result"
    }
   ],
   "source": [
    "#Adiciona um elemento em um Set\n",
    "bigdata.add('Hadoop')\n",
    "bigdata"
   ]
  },
  {
   "cell_type": "code",
   "execution_count": 19,
   "id": "273acffc-8cab-4d3f-af48-4333d02f6c66",
   "metadata": {},
   "outputs": [
    {
     "name": "stdout",
     "output_type": "stream",
     "text": [
      "4\n"
     ]
    }
   ],
   "source": [
    "#Retorna o número de elementos dentro de um Set\n",
    "print(len(bigdata))"
   ]
  },
  {
   "cell_type": "code",
   "execution_count": 20,
   "id": "16847d02-c345-4a5f-b169-e6073eecc745",
   "metadata": {},
   "outputs": [
    {
     "data": {
      "text/plain": [
       "(1, 2, 3, 4, 5)"
      ]
     },
     "execution_count": 20,
     "metadata": {},
     "output_type": "execute_result"
    }
   ],
   "source": [
    "#Tuplas são listas que não podem ser alteradas\n",
    "tupla = (1,2,3,4,5)\n",
    "tupla"
   ]
  },
  {
   "cell_type": "code",
   "execution_count": 21,
   "id": "eb457cb4-e028-451b-bea3-748e8cf6d679",
   "metadata": {},
   "outputs": [
    {
     "data": {
      "text/plain": [
       "5"
      ]
     },
     "execution_count": 21,
     "metadata": {},
     "output_type": "execute_result"
    }
   ],
   "source": [
    "tupla[4]"
   ]
  },
  {
   "cell_type": "code",
   "execution_count": 24,
   "id": "46bbea93-1d0e-4a07-924c-5631be3570cb",
   "metadata": {},
   "outputs": [
    {
     "data": {
      "text/plain": [
       "{(0, 1): 0, (1, 2): 1, (2, 3): 2, (4, 5): 3}"
      ]
     },
     "execution_count": 24,
     "metadata": {},
     "output_type": "execute_result"
    }
   ],
   "source": [
    "#Exemplo de dicionários em que cada posição recebe uma tupla\n",
    "dicionario_1 = {(0,1):0,(1,2):1,(2,3):2,(4,5):3}\n",
    "dicionario_1"
   ]
  },
  {
   "cell_type": "code",
   "execution_count": 28,
   "id": "1ad2903a-5770-4032-9a22-68f90b2be9b1",
   "metadata": {},
   "outputs": [
    {
     "name": "stdout",
     "output_type": "stream",
     "text": [
      "<class 'dict'>\n",
      "<class 'set'>\n",
      "<class 'tuple'>\n"
     ]
    }
   ],
   "source": [
    "#Retornando os tipos dos objetos\n",
    "print(type(notas)) #dicionário\n",
    "print(type(bigdata)) #set\n",
    "print(type(tupla)) #tupla"
   ]
  }
 ],
 "metadata": {
  "kernelspec": {
   "display_name": "Python 3",
   "language": "python",
   "name": "python3"
  },
  "language_info": {
   "codemirror_mode": {
    "name": "ipython",
    "version": 3
   },
   "file_extension": ".py",
   "mimetype": "text/x-python",
   "name": "python",
   "nbconvert_exporter": "python",
   "pygments_lexer": "ipython3",
   "version": "3.8.8"
  }
 },
 "nbformat": 4,
 "nbformat_minor": 5
}
